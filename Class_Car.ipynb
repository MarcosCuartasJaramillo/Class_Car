{
  "nbformat": 4,
  "nbformat_minor": 0,
  "metadata": {
    "colab": {
      "provenance": [],
      "authorship_tag": "ABX9TyN+fAojWirx6hfp1ITMuLts",
      "include_colab_link": true
    },
    "kernelspec": {
      "name": "python3",
      "display_name": "Python 3"
    },
    "language_info": {
      "name": "python"
    }
  },
  "cells": [
    {
      "cell_type": "markdown",
      "metadata": {
        "id": "view-in-github",
        "colab_type": "text"
      },
      "source": [
        "<a href=\"https://colab.research.google.com/github/MarcosCuartasJaramillo/Class_Car/blob/main/Class_Car.ipynb\" target=\"_parent\"><img src=\"https://colab.research.google.com/assets/colab-badge.svg\" alt=\"Open In Colab\"/></a>"
      ]
    },
    {
      "cell_type": "code",
      "execution_count": null,
      "metadata": {
        "id": "tiYyD0KYHUra"
      },
      "outputs": [],
      "source": [
        "class vehicle:\n",
        "  #This is the constructor methid, needed to initialize the attributes of each object\n",
        "  def__init__(self, speed, nav_system, propulsion, weight, distance):\n",
        "    self.speed = speed #This is not an attribute of class vehicle\n",
        "    self.nav_system = nav_system\n",
        "    self.propulsion = propulsion\n",
        "    self.weight = weight\n",
        "    self.distance = distance"
      ]
    },
    {
      "cell_type": "code",
      "source": [
        "class Car:\n",
        "  def __init__(self, make, model, year):\n",
        "    self.make=make\n",
        "    self.model=model\n",
        "    self.year=year\n",
        "    self.utility = 'HUV'\n",
        "\n",
        "  def accelerate(self):\n",
        "    print('The car accelerates. ')\n",
        "\n",
        "  def decelerate(self):\n",
        "    print(f'The (self.make) decelerates. ')"
      ],
      "metadata": {
        "id": "6fPsUjaKHXCe"
      },
      "execution_count": null,
      "outputs": []
    },
    {
      "cell_type": "code",
      "source": [
        "c = Car('Ford', 150, 2023)\n",
        "d = Car('Chrysler', 300, 2020)"
      ],
      "metadata": {
        "id": "1ghnY1Q-HZmx"
      },
      "execution_count": null,
      "outputs": []
    },
    {
      "cell_type": "code",
      "source": [
        "c.accelerate()"
      ],
      "metadata": {
        "id": "Ht2qN4i3HcLY"
      },
      "execution_count": null,
      "outputs": []
    },
    {
      "cell_type": "code",
      "source": [
        "c.make"
      ],
      "metadata": {
        "id": "cgkYtHEYHgSd"
      },
      "execution_count": null,
      "outputs": []
    }
  ]
}